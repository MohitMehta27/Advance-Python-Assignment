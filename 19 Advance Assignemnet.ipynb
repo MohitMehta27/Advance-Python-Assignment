{
 "cells": [
  {
   "cell_type": "markdown",
   "id": "dc203660-2b14-4e3d-8ed6-620df2f6d9fb",
   "metadata": {},
   "source": [
    "Q1. Define the relationship between a class and its instances. Is it a one-to-one or a one-to-many partnership, for example?"
   ]
  },
  {
   "cell_type": "markdown",
   "id": "24790472-2008-41cd-b247-5c1e54bee83b",
   "metadata": {},
   "source": [
    "the relationship between a class and its instances is a one-to-many partnership. A class serves as a blueprint or template, and from that class, multiple instances or objects can be created, each representing a distinct occurrence with its own unique attributes and behaviors."
   ]
  },
  {
   "cell_type": "markdown",
   "id": "4e11dfb2-a59d-4048-96e2-aca797207da5",
   "metadata": {},
   "source": [
    "Q2. What kind of data is held only in an instance?"
   ]
  },
  {
   "cell_type": "markdown",
   "id": "c7a015e7-81d9-4151-a409-34c671339da7",
   "metadata": {},
   "source": [
    "Instance data, specific to each instance, holds attributes describing the object's properties and reflects its current state."
   ]
  },
  {
   "cell_type": "markdown",
   "id": "c20bd724-54e5-4c05-88e2-f285bee4e561",
   "metadata": {},
   "source": [
    "Q3. What kind of knowledge is stored in a class?"
   ]
  },
  {
   "cell_type": "markdown",
   "id": "e52bcb75-2da7-4c53-af87-2c51531e5325",
   "metadata": {},
   "source": [
    "In a class, knowledge is stored as:\n",
    "\n",
    "Class-level variables: These hold data shared by all instances of the class, representing common properties or characteristics.\n",
    "Class methods: These define behaviors or actions that are applicable to the class as a whole, rather than individual instances.\n",
    "Class-level documentation: It includes comments, docstrings, and annotations that describe the purpose, usage, and specifications of the class and its members."
   ]
  },
  {
   "cell_type": "markdown",
   "id": "d2ef49aa-a413-4b64-b3d4-f6f5ac49e568",
   "metadata": {},
   "source": [
    "Q4. What exactly is a method, and how is it different from a regular function?"
   ]
  },
  {
   "cell_type": "markdown",
   "id": "e9c60914-ec20-4462-a178-6f9be7b1d774",
   "metadata": {},
   "source": [
    "A method is a function that is defined within a class and is associated with objects or instances of that class. It is a behavior or action that the objects can perform.\n",
    "\n",
    "Here's how a method differs from a regular function:\n",
    "\n",
    "Scope: Methods are defined within a class and operate on instances of that class, whereas regular functions are defined outside of any class and have a broader scope.\n",
    "\n",
    "Access to data: Methods have access to the instance data (attributes) of the object they are called on, allowing them to interact with and manipulate the object's state.\n",
    "\n",
    "Self-parameter: Methods in Python have a special parameter called self, which represents the instance the method is called on. This allows methods to access and modify the instance's data.\n",
    "\n",
    "Inheritance: Methods can be inherited by subclasses, allowing for code reuse and polymorphism, whereas regular functions do not support inheritance by default."
   ]
  },
  {
   "cell_type": "markdown",
   "id": "cffd8301-d372-45d4-a303-f0e502487cdc",
   "metadata": {},
   "source": [
    "Q5. Is inheritance supported in Python, and if so, what is the syntax?"
   ]
  },
  {
   "cell_type": "markdown",
   "id": "b7bd6d71-2700-4b56-9ae7-d84af256f6d1",
   "metadata": {},
   "source": [
    "Yes, inheritance is supported in Python. The syntax for defining a class that inherits from another class is as follows:\n",
    "class DerivedClass(BaseClass):"
   ]
  },
  {
   "cell_type": "markdown",
   "id": "2baa78b4-26d3-4aea-81c8-de6c6aade4f8",
   "metadata": {},
   "source": [
    "Q6. How much encapsulation (making instance or class variables private) does Python support?"
   ]
  },
  {
   "cell_type": "markdown",
   "id": "8b2c123e-cf5f-4829-9267-abeee00e9055",
   "metadata": {},
   "source": [
    "Private variables: By convention, instance and class variables intended to be private are prefixed with a single underscore _. This indicates that they should be treated as internal implementation details and not accessed directly from outside the class. However, it doesn't prevent direct access to these variables, as the convention is merely a suggestion.\n",
    "\n",
    "Protected variables: By convention, instance and class variables intended to be protected (accessible within the class and its subclasses) are prefixed with a double underscore __. This triggers name mangling, where the variable name is modified to include the class name as a prefix to prevent accidental name clashes in subclasses. However, it does not provide true data hiding or prevent direct access."
   ]
  },
  {
   "cell_type": "markdown",
   "id": "c5958a1c-ef8a-42c1-ae26-da30a63a1a5b",
   "metadata": {},
   "source": [
    "Q7. How do you distinguish between a class variable and an instance variable?"
   ]
  },
  {
   "cell_type": "markdown",
   "id": "97e7c3cc-373c-488c-938b-d740b70bb31c",
   "metadata": {},
   "source": [
    "the key distinctions between class variables and instance variables are:\n",
    "\n",
    "Class variables are shared among all instances of a class, while instance variables are specific to each individual instance.\n",
    "Class variables are defined outside any methods in the class body, while instance variables are defined within methods or the constructor.\n",
    "Class variables are accessed using the class name or an instance of the class, while instance variables are accessed using the specific instance.\n",
    "Class variables represent shared properties or characteristics of the class, while instance variables hold unique attributes or state for each object."
   ]
  },
  {
   "cell_type": "markdown",
   "id": "a0127ed2-963c-4ed5-abd7-e2dae6f5685f",
   "metadata": {},
   "source": [
    "Q8. When, if ever, can self be included in a class's method definitions?"
   ]
  },
  {
   "cell_type": "markdown",
   "id": "aa1a4b48-4d31-4bba-83a5-1e8c18d68486",
   "metadata": {},
   "source": [
    "the self parameter is included in a class's method definitions to refer to the instance of the class on which the method is called. It is a convention to include self as the first parameter in most instance methods, although the name self is not a requirement and can be replaced with any valid variable name.\n",
    "\n",
    "The self parameter allows the method to access and manipulate the instance's data (instance variables) and call other methods within the class. It essentially provides a way for the method to refer to and operate on the specific instance it is called on."
   ]
  },
  {
   "cell_type": "markdown",
   "id": "4065faa4-32ba-484e-9645-5f41171c09e3",
   "metadata": {},
   "source": [
    "Q9. What is the difference between the _ _add_ _ and the _ _radd_ _ methods?"
   ]
  },
  {
   "cell_type": "markdown",
   "id": "b5f22c74-185a-4fce-9d56-e918c68f8cfb",
   "metadata": {},
   "source": [
    "__add__: This method is invoked when the + operator is used to add an object with another object. It defines the behavior of addition when the object is on the left side of the operator. For example, if a + b is performed, the __add__ method of the object a is called.\n",
    "\n",
    "__radd__: This method is invoked when the + operator is used to add an object with another object, but the object on the left side does not define an __add__ method or does not support the operation. It defines the behavior of addition when the object is on the right side of the operator. For example, if a + b is performed and a does not have an __add__ method, then the __radd__ method of the object b is called."
   ]
  },
  {
   "cell_type": "markdown",
   "id": "58293eb6-aa9e-4a02-9013-94137cd5360f",
   "metadata": {},
   "source": [
    "Q10. When is it necessary to use a reflection method? When do you not need it, even though you support the operation in question?"
   ]
  },
  {
   "cell_type": "markdown",
   "id": "c881584f-38bd-43f0-9d4c-81237b7e7b31",
   "metadata": {},
   "source": [
    "A reflection method, such as __str__ or __repr__ in Python, is necessary when you want to provide a string representation of an object or customize how the object is displayed. It allows you to define the behavior when the object is used in operations like printing, converting to a string, or formatting.\n",
    "\n",
    "On the other hand, you may not need a reflection method if the default representation or behavior of the object is sufficient. In such cases, if you don't explicitly define a reflection method, the default implementation provided by the base class will be used."
   ]
  }
 ],
 "metadata": {
  "kernelspec": {
   "display_name": "Python 3 (ipykernel)",
   "language": "python",
   "name": "python3"
  },
  "language_info": {
   "codemirror_mode": {
    "name": "ipython",
    "version": 3
   },
   "file_extension": ".py",
   "mimetype": "text/x-python",
   "name": "python",
   "nbconvert_exporter": "python",
   "pygments_lexer": "ipython3",
   "version": "3.10.6"
  }
 },
 "nbformat": 4,
 "nbformat_minor": 5
}
