{
 "cells": [
  {
   "cell_type": "code",
   "execution_count": null,
   "id": "3f4d3cab-ada9-432d-ad02-8412ef867141",
   "metadata": {},
   "outputs": [],
   "source": [
    "Q1. Which two operator overloading methods can you use in your classes to support iteration?"
   ]
  },
  {
   "cell_type": "markdown",
   "id": "7b9bbf35-3be2-4d57-b3bb-4929e3e0a896",
   "metadata": {},
   "source": [
    "__iter__: This method is called when an iterator object is created for an instance of class. It should return an iterator object that defines a __next__ method that returns the next value in the iteration. Typically, the __iter__ method returns self, since the instance itself can serve as the iterator object.\n",
    "\n",
    "__next__: This method is called by the iterator object returned by the __iter__ method to get the next value in the iteration. It should raise the StopIteration exception when there are no more values to iterate over."
   ]
  },
  {
   "cell_type": "code",
   "execution_count": null,
   "id": "5519f774-97cf-44c7-8f1c-cc688f7d5f1d",
   "metadata": {},
   "outputs": [],
   "source": [
    "Q2. In what contexts do the two operator overloading methods manage printing?"
   ]
  },
  {
   "cell_type": "markdown",
   "id": "04ef5e1b-7315-4144-81c8-8ec068990609",
   "metadata": {},
   "source": [
    "__str__: This method is called by the str() function and by the print() function when an object is printed. It should return a string representation of the object.\n",
    "\n",
    "__repr__: This method is called by the repr() function and by the interactive interpreter when an object is represented. It should return a string that represents a valid Python expression that could be used to recreate the objec"
   ]
  },
  {
   "cell_type": "code",
   "execution_count": null,
   "id": "39e7b498-949e-4c7f-879f-4a00698a2124",
   "metadata": {},
   "outputs": [],
   "source": [
    "Q3. In a class, how do you intercept slice operations?"
   ]
  },
  {
   "cell_type": "markdown",
   "id": "1ba16733-94d2-458d-827a-c8dadfba4c1f",
   "metadata": {},
   "source": [
    "The __getitem__ method is called when an item is accessed using square brackets [] and can accept a slice object as an argument. When the slice notation start:stop:step is used, Python creates a slice object that encapsulates these values and passes it as an argument to __getitem__."
   ]
  },
  {
   "cell_type": "code",
   "execution_count": null,
   "id": "cc47b2c0-da9c-4f5f-9220-d0a1fd5f9a09",
   "metadata": {},
   "outputs": [],
   "source": [
    "Q4. In a class, how do you capture in-place addition?"
   ]
  },
  {
   "cell_type": "code",
   "execution_count": null,
   "id": "a75d1091-032c-490f-8385-6308f72d9f3a",
   "metadata": {},
   "outputs": [],
   "source": [
    "The __iadd__ method is called when an in-place addition operation is performed using the += operator."
   ]
  },
  {
   "cell_type": "code",
   "execution_count": null,
   "id": "492eb487-a385-42b3-bd68-debaf0e44545",
   "metadata": {},
   "outputs": [],
   "source": [
    "Q5. When is it appropriate to use operator overloading?"
   ]
  },
  {
   "cell_type": "markdown",
   "id": "38a39f44-cd28-4a59-86d4-44b0e813ee03",
   "metadata": {},
   "source": [
    "It is appropriate to use operator overloading in your classes when it makes the code more readable and intuitive. For example, if a class that represents a complex number, overloading the + operator to allow addition of two instances of the class makes sense, as it provides a natural way to perform arithmetic operations on complex numbers"
   ]
  }
 ],
 "metadata": {
  "kernelspec": {
   "display_name": "Python 3 (ipykernel)",
   "language": "python",
   "name": "python3"
  },
  "language_info": {
   "codemirror_mode": {
    "name": "ipython",
    "version": 3
   },
   "file_extension": ".py",
   "mimetype": "text/x-python",
   "name": "python",
   "nbconvert_exporter": "python",
   "pygments_lexer": "ipython3",
   "version": "3.10.6"
  }
 },
 "nbformat": 4,
 "nbformat_minor": 5
}
