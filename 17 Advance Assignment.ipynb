{
 "cells": [
  {
   "cell_type": "markdown",
   "id": "72434ef2-5e73-4fec-ae3a-b59219e7436b",
   "metadata": {},
   "source": [
    "Q1. Explain the difference between greedy and non-greedy syntax with visual terms in as few words as possible. What is the bare minimum effort required to transform a greedy pattern into a non-greedy one? What characters or characters can you introduce or change?"
   ]
  },
  {
   "cell_type": "markdown",
   "id": "3cf15932-c289-4a45-b88a-4415bfb9e770",
   "metadata": {},
   "source": [
    "Greedy syntax tries to match as much as possible, while non-greedy syntax tries to match as little as possible.\n",
    "To transform a greedy pattern into a non-greedy one, you can introduce or change the quantifier character to include a question mark \"?\" after the pattern."
   ]
  },
  {
   "cell_type": "markdown",
   "id": "a6b4cafa-5597-4f8f-ae96-5743547ac651",
   "metadata": {},
   "source": [
    "Q2. When exactly does greedy versus non-greedy make a difference?  What if you're looking for a non-greedy match but the only one available is greedy?"
   ]
  },
  {
   "cell_type": "code",
   "execution_count": null,
   "id": "8af951a7-d5f0-4fdd-b7d7-d3f44ee50ac9",
   "metadata": {},
   "outputs": [],
   "source": [
    "Greedy versus non-greedy matching matters when there are multiple possible matches.If a non-greedy match is not available and only a greedy match exists, you can:\n",
    "a. Modify the pattern to make it more specific or add constraints.\n",
    "b. Extract the entire greedy match and then refine it manually.\n",
    "c. Explore alternative tools or approaches beyond regular expressions."
   ]
  },
  {
   "cell_type": "markdown",
   "id": "8ecc3c33-0203-4360-85c1-5dc271e4519d",
   "metadata": {},
   "source": [
    "Q3. In a simple match of a string, which looks only for one match and does not do any replacement, is the use of a nontagged group likely to make any practical difference?"
   ]
  },
  {
   "cell_type": "markdown",
   "id": "3fdc2f92-6f55-4718-8e72-bb39b850c279",
   "metadata": {},
   "source": [
    "In a simple match of a string where you are only looking for one match and not performing any replacement, the use of a non-tagged group will not make any practical difference in terms of the outcome of the match.Non-tagged groups, also known as non-capturing groups, are typically used when you want to group a pattern together for the purpose of applying quantifiers or other operators, but you don't need to capture the matched substring. They are useful for organizing the structure of the regular expression but do not affect the overall matching behavior or the result of the match."
   ]
  },
  {
   "cell_type": "markdown",
   "id": "74323449-6432-4744-a05b-21d7d62d671a",
   "metadata": {},
   "source": [
    "Q4. Describe a scenario in which using a nontagged category would have a significant impact on the program's outcomes."
   ]
  },
  {
   "cell_type": "markdown",
   "id": "101327bc-4052-46a1-9bda-6619abffbe0f",
   "metadata": {},
   "source": [
    "A scenario where using a non-tagged category (non-capturing group) can have a significant impact on the program's outcomes is when you are utilizing backreferences in your regular expression.\n",
    "\n",
    "Backreferences allow you to refer back to previously captured groups within the regular expression pattern. By default, capturing groups (groups enclosed in parentheses) capture the matched substring and store it for future reference. However, using a non-capturing group (non-tagged category) with backreferences changes the behavior."
   ]
  },
  {
   "cell_type": "markdown",
   "id": "addaa469-5543-4f0b-87da-4fc48266b324",
   "metadata": {},
   "source": [
    "Q5. Unlike a normal regex pattern, a look-ahead condition does not consume the characters it examines. Describe a situation in which this could make a difference in the results of your programme."
   ]
  },
  {
   "cell_type": "markdown",
   "id": "bd59cbc3-9225-4183-87fd-88357503fabe",
   "metadata": {},
   "source": [
    "The non-consumptive nature of a look-ahead condition in regex can make a difference in the results of a program when you need to assert a specific condition without actually including the characters in the match. Let's say you have a list of email addresses, and you want to extract only the email addresses that belong to a specific domain (e.g., example.com). However, you don't want to include the domain part in the extracted result.Using a positive look-ahead assertion in this situation can help achieve the desired outcome."
   ]
  },
  {
   "cell_type": "markdown",
   "id": "766d2abd-93f6-4f3b-8578-0724cd1fd0a7",
   "metadata": {},
   "source": [
    "Q6. In standard expressions, what is the difference between positive look-ahead and negative look-ahead?"
   ]
  },
  {
   "cell_type": "markdown",
   "id": "019a81d5-71a9-4ff0-8868-f4336f1dde34",
   "metadata": {},
   "source": [
    "Positive look-ahead ((?=...)): A positive look-ahead asserts that the subexpression inside it must be present after the current position, without including it in the overall match. It is used to ensure that a specific pattern is followed by another pattern without actually consuming the characters. In other words, it looks ahead to check if a specific condition is met.\n",
    "Negative look-ahead ((?!...)): A negative look-ahead asserts that the subexpression inside it must not be present after the current position. It is used to ensure that a specific pattern is not followed by another pattern, without consuming the characters. In other words, it looks ahead to check if a specific condition is not met."
   ]
  },
  {
   "cell_type": "markdown",
   "id": "aa24307e-5b01-47d5-af0d-95bb71497bab",
   "metadata": {},
   "source": [
    "Q7. What is the benefit of referring to groups by name rather than by number in a standard expression?"
   ]
  },
  {
   "cell_type": "markdown",
   "id": "288e05a3-d2a2-485e-864d-93787748b206",
   "metadata": {},
   "source": [
    "Using named groups in regular expressions provides benefits such as improved readability, code clarity, flexibility, and resilience to pattern modifications. It enhances the understandability of the regular expression and makes the code more self-explanatory, facilitating future maintenance and modifications. Named groups make the code more robust and self-contained, reducing dependencies on the specific structure or order of groups in the regular expression."
   ]
  },
  {
   "cell_type": "markdown",
   "id": "4fa419b9-54b9-4815-b76d-daa8a369001f",
   "metadata": {},
   "source": [
    "Q8. Can you identify repeated items within a target string using named groups, as in \"The cow jumped over the moon\"?"
   ]
  },
  {
   "cell_type": "code",
   "execution_count": 21,
   "id": "a775d590-4431-4779-a668-9569e0316b17",
   "metadata": {},
   "outputs": [
    {
     "name": "stdout",
     "output_type": "stream",
     "text": [
      "['the']\n"
     ]
    }
   ],
   "source": [
    "import re\n",
    "\n",
    "pattern = r'\\b(?P<word>\\w+)\\b(?=.*\\b\\1\\b)'\n",
    "target_string = \"the cow jumped over the moon\"\n",
    "\n",
    "matches = [match.group('word') for match in re.finditer(pattern, target_string)]\n",
    "print(matches) \n"
   ]
  },
  {
   "cell_type": "markdown",
   "id": "49aab57a-2c4e-4f85-b2e7-5be4d454fef4",
   "metadata": {},
   "source": [
    "Q9. When parsing a string, what is at least one thing that the Scanner interface does for you that the re.findall feature does not?"
   ]
  },
  {
   "cell_type": "markdown",
   "id": "7fe5c987-5767-4260-8278-e03a92f4a207",
   "metadata": {},
   "source": [
    "the Scanner interface provides tokenization capabilities, allowing to break a string into individual tokens based on specific patterns or delimiters. This functionality is not provided by the re.findall feature, which returns all matches of a pattern without tokenization. The Scanner interface gives you more control over the parsing process, whereas re.findall is focused on finding all occurrences of a pattern in a string."
   ]
  },
  {
   "cell_type": "markdown",
   "id": "62da2116-78f3-4ad5-849a-481d6cfd9c36",
   "metadata": {},
   "source": [
    "Q10. Does a scanner object have to be named scanner?"
   ]
  },
  {
   "cell_type": "markdown",
   "id": "68d1e58e-d41f-43f5-a11b-6832cdafb4d0",
   "metadata": {},
   "source": [
    "No, a Scanner object does not have to be named \"scanner\". You can name the object as per your preference and the naming conventions of the programming language you are using. The name of the object is simply an identifier that you choose to refer to the Scanner instance in your code."
   ]
  }
 ],
 "metadata": {
  "kernelspec": {
   "display_name": "Python 3 (ipykernel)",
   "language": "python",
   "name": "python3"
  },
  "language_info": {
   "codemirror_mode": {
    "name": "ipython",
    "version": 3
   },
   "file_extension": ".py",
   "mimetype": "text/x-python",
   "name": "python",
   "nbconvert_exporter": "python",
   "pygments_lexer": "ipython3",
   "version": "3.10.6"
  }
 },
 "nbformat": 4,
 "nbformat_minor": 5
}
