{
 "cells": [
  {
   "cell_type": "markdown",
   "id": "3339f58e-24bc-4774-a8f0-99e9f6d1cf49",
   "metadata": {},
   "source": [
    "Q1. Describe three applications for exception processing."
   ]
  },
  {
   "cell_type": "markdown",
   "id": "83f00355-c9d9-43cb-86ac-1366fd2349eb",
   "metadata": {},
   "source": [
    "1. E-commerce Order Fulfillment: Exception processing in e-commerce systems helps handle exceptions like out-of-stock items, address verification failures, or payment processing errors, ensuring smooth order fulfillment and customer satisfaction.\n",
    "2. Healthcare Systems: Exception processing in healthcare systems manages exceptions such as medication errors, patient identification mismatches, or abnormal test results, enabling prompt intervention and ensuring patient safety.\n",
    "3. Manufacturing Quality Control: Exception processing in manufacturing identifies and addresses exceptions like defective products, production line breakdowns, or deviations from quality standards, facilitating timely corrective actions and maintaining product quality."
   ]
  },
  {
   "cell_type": "markdown",
   "id": "acab24ad-bc15-4402-8eda-17fbbc83eae6",
   "metadata": {},
   "source": [
    "Q2. What happens if you don't do something extra to treat an exception?"
   ]
  },
  {
   "cell_type": "markdown",
   "id": "53262815-2ec5-4fe7-8243-3e5d0b8f3114",
   "metadata": {},
   "source": [
    "If an exception is not properly treated or handled, it can lead to program crashes or unexpected behavior, disrupting the normal flow of operations and potentially compromising the system's stability and data integrity."
   ]
  },
  {
   "cell_type": "markdown",
   "id": "7acc2397-b706-4664-b878-29375eb7801f",
   "metadata": {},
   "source": [
    "Q3. What are your options for recovering from an exception in your script?"
   ]
  },
  {
   "cell_type": "markdown",
   "id": "df255142-ff9e-4d6e-8c33-4ec555843970",
   "metadata": {},
   "source": [
    "1. Exception Logging and Messaging: You can log the exception details, including the error message and stack trace, for later analysis and debugging purposes. Additionally, you can display meaningful error messages to users, providing information about the exception and suggesting corrective actions.\n",
    "\n",
    "2. Exception Handling and Retry: You can implement exception handling mechanisms to catch specific exceptions and execute alternative code paths or recovery procedures. For example, you may attempt to retry the failed operation, apply fallback logic, or revert to a known good state.\n",
    "\n",
    "3. Graceful Termination: In some cases, the best course of action may be to gracefully terminate the script if the exception is severe and cannot be safely recovered from. This ensures that the script exits without causing further issues and may involve cleaning up any resources or data before exiting."
   ]
  },
  {
   "cell_type": "markdown",
   "id": "94eda1b5-23bc-42b2-ae2f-161b03a532fa",
   "metadata": {},
   "source": [
    "Q4. Describe two methods for triggering exceptions in your script."
   ]
  },
  {
   "cell_type": "markdown",
   "id": "1d2ce1c1-f9c4-42df-8da3-ce6658310030",
   "metadata": {},
   "source": [
    "To trigger exceptions in script, you can utilize the following methods:\n",
    "\n",
    "1. Explicit Exception Throwing: You can intentionally raise exceptions at specific points in your code by using the raise statement. This allows you to create and raise custom exceptions or use built-in exception types.\n",
    "2. Exception Propagation: Exceptions can also be triggered implicitly through the normal flow of program execution. If an exceptional condition occurs in a function or method but is not handled locally, the exception will propagate up the call stack until it is caught and handled in an appropriate exception handler. This allows exceptions to propagate across multiple layers of code and be caught at higher levels for centralized handling."
   ]
  },
  {
   "cell_type": "markdown",
   "id": "de827d41-e783-4b04-8eac-eca46d908e4a",
   "metadata": {},
   "source": [
    "Q5. Identify two methods for specifying actions to be executed at termination time, regardless of whether or not an exception exists."
   ]
  },
  {
   "cell_type": "markdown",
   "id": "c117a3d5-f473-4698-85d3-0a5162dd0d28",
   "metadata": {},
   "source": [
    "To specify actions to be executed at termination time, regardless of whether or not an exception exists, you can utilize the following methods:\n",
    "1. Finally Blocks: In many programming languages, including Python, you can use a finally block to specify code that should be executed regardless of whether an exception occurs or not. The code within the finally block will always run, ensuring that certain cleanup or finalization actions take place. \n",
    "2. Resource Management with Context Managers: Another approach is to use context managers, often implemented using the with statement. Context managers allow you to allocate and release resources in a controlled manner, guaranteeing that cleanup actions occur, even if an exception is raised. This is particularly useful for managing file operations, database connections, or network sockets."
   ]
  }
 ],
 "metadata": {
  "kernelspec": {
   "display_name": "Python 3 (ipykernel)",
   "language": "python",
   "name": "python3"
  },
  "language_info": {
   "codemirror_mode": {
    "name": "ipython",
    "version": 3
   },
   "file_extension": ".py",
   "mimetype": "text/x-python",
   "name": "python",
   "nbconvert_exporter": "python",
   "pygments_lexer": "ipython3",
   "version": "3.10.6"
  }
 },
 "nbformat": 4,
 "nbformat_minor": 5
}
