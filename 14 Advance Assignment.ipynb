{
 "cells": [
  {
   "cell_type": "markdown",
   "id": "d47b7bfe-32d0-4c8f-8822-7a2a69965038",
   "metadata": {},
   "source": [
    "Q1. Is an assignment operator like += only for show? Is it possible that it would lead to faster results at the runtime?"
   ]
  },
  {
   "cell_type": "markdown",
   "id": "93bbbfcb-0f78-4541-b024-6145e0f794c8",
   "metadata": {},
   "source": [
    "No, an assignment operator like += is not just for show. In many cases, it can lead to faster results at runtime compared to alternative approaches. The use of an assignment operator can have performance benefits due to a concept called in-place modification.\n",
    "\n",
    "When you use the += operator, it typically performs an in-place modification of the variable on the left-hand side of the operator. This means that the value is updated directly in memory without creating a new object or copying the entire data.\n",
    "\n",
    "The performance advantage of the += operator lies in reducing memory allocations and data copying, which can be costly operations, especially when dealing with large data structures. Instead of creating a new object and assigning it to the variable, the += operator modifies the existing object in place, saving time and memory."
   ]
  },
  {
   "cell_type": "markdown",
   "id": "2c8fd9c2-5aa9-4205-99b4-50dda586fb4f",
   "metadata": {},
   "source": [
    "Q2. What is the smallest number of statements you'd have to write in most programming languages to replace the Python expression a, b = a + b, a?"
   ]
  },
  {
   "cell_type": "code",
   "execution_count": null,
   "id": "db836aba-308e-41f3-af30-220528b75a32",
   "metadata": {},
   "outputs": [],
   "source": [
    "temp = a\n",
    "a = a + b\n",
    "b = temp\n"
   ]
  },
  {
   "cell_type": "markdown",
   "id": "81be6edd-7ff6-495a-87f0-ff6bb7549ad0",
   "metadata": {},
   "source": [
    "Q3. In Python, what is the most effective way to set a list of 100 integers to 0?"
   ]
  },
  {
   "cell_type": "code",
   "execution_count": 2,
   "id": "5989d422-c6c7-435c-9628-2666786a5b04",
   "metadata": {},
   "outputs": [],
   "source": [
    "my_list = [1] * 100 \n",
    "my_list[:] = [0] * 100  "
   ]
  },
  {
   "cell_type": "markdown",
   "id": "ecd3bd74-ebe0-4fa6-a486-0474af46c033",
   "metadata": {},
   "source": [
    "Q4. What is the most effective way to initialise a list of 99 integers that repeats the sequence 1, 2, 3? S If necessary, show step-by-step instructions on how to accomplish this."
   ]
  },
  {
   "cell_type": "code",
   "execution_count": 4,
   "id": "11f898fb-5f7a-4b16-bccc-34ef7cdca29f",
   "metadata": {},
   "outputs": [
    {
     "name": "stdout",
     "output_type": "stream",
     "text": [
      "[1, 2, 3, 1, 2, 3, 1, 2, 3, 1, 2, 3, 1, 2, 3, 1, 2, 3, 1, 2, 3, 1, 2, 3, 1, 2, 3, 1, 2, 3, 1, 2, 3, 1, 2, 3, 1, 2, 3, 1, 2, 3, 1, 2, 3, 1, 2, 3, 1, 2, 3, 1, 2, 3, 1, 2, 3, 1, 2, 3, 1, 2, 3, 1, 2, 3, 1, 2, 3, 1, 2, 3, 1, 2, 3, 1, 2, 3, 1, 2, 3, 1, 2, 3, 1, 2, 3, 1, 2, 3, 1, 2, 3, 1, 2, 3, 1, 2, 3]\n"
     ]
    }
   ],
   "source": [
    "my_list = [] \n",
    "\n",
    "for i in range(99):\n",
    "    value = (i % 3) + 1\n",
    "    my_list.append(value)\n",
    "print(my_list)"
   ]
  },
  {
   "cell_type": "markdown",
   "id": "5ea4132f-21ee-4ab1-8260-0ec63a227a87",
   "metadata": {},
   "source": [
    "Q5. If you're using IDLE to run a Python application, explain how to print a multidimensional list as efficiently?"
   ]
  },
  {
   "cell_type": "code",
   "execution_count": 6,
   "id": "e27ca2ca-1997-41ea-8169-a3ef56f6c7a4",
   "metadata": {},
   "outputs": [
    {
     "name": "stdout",
     "output_type": "stream",
     "text": [
      "1 2 3 \n",
      "4 5 6 \n",
      "7 8 9 \n"
     ]
    }
   ],
   "source": [
    "my_list = [[1, 2, 3], [4, 5, 6], [7, 8, 9]] \n",
    "\n",
    "for row in my_list:\n",
    "    for element in row:\n",
    "        print(element, end=' ')\n",
    "    print()  \n"
   ]
  },
  {
   "cell_type": "markdown",
   "id": "eb22e912-2d27-4eae-9843-940cb94d196c",
   "metadata": {},
   "source": [
    "Q6. Is it possible to use list comprehension with a string? If so, how can you go about doing it?"
   ]
  },
  {
   "cell_type": "code",
   "execution_count": null,
   "id": "6be09d9c-b8aa-45dc-8dea-0a1cf14b82e6",
   "metadata": {},
   "outputs": [],
   "source": [
    "#Yes, it is possible to use list comprehension with a string in Python. You can treat a string as an iterable sequence of characters and apply list comprehension to create a list based on certain criteria or transformations\n",
    "my_string = \"Hello, World!\"\n",
    "char_list = [char for char in my_string]\n",
    "print(char_list)"
   ]
  },
  {
   "cell_type": "markdown",
   "id": "5fef5f89-b45d-470c-a298-3ecd95be13c1",
   "metadata": {},
   "source": [
    "Q7. From the command line, how do you get support with a user-written Python programme? Is this possible from inside IDLE?"
   ]
  },
  {
   "cell_type": "markdown",
   "id": "7fa6307b-766a-4316-880f-5cd33e7082c2",
   "metadata": {},
   "source": [
    "From the command line, you can get support with a user-written Python program by using the -h or --help command-line argument. This is a common convention in many command-line programs to provide a summary of available options, arguments, and usage instructions. In the Python shell within IDLE, you can use the help() function to get help with specific functions, modules, or objects."
   ]
  },
  {
   "cell_type": "markdown",
   "id": "a2a2f7ba-ca04-4db6-a523-d68506afcfb4",
   "metadata": {},
   "source": [
    "Q8. Functions are said to be “first-class objects” in Python but not in most other languages, such as C++ or Java. What can you do in Python with a function (callable object) that you can't do in C or C++?"
   ]
  },
  {
   "cell_type": "markdown",
   "id": "ada460f4-d132-408a-8c75-da7509ebb009",
   "metadata": {},
   "source": [
    "In Python, functions are considered \"first-class objects,\" which means they have the same status and capabilities as other objects, such as integers, strings, or lists. This distinction allows functions to be used in ways that may not be possible or as flexible in languages like C or C++. Here are some things you can do with functions in Python that may be more challenging or restricted in C or C++:\n",
    "\n",
    "Assign functions to variables: In Python, you can assign a function to a variable, just like any other object. This allows you to treat functions as data and pass them around as arguments or return them from other functions. This is known as \"function assignment\" or \"function references.\"\n",
    "\n",
    "Pass functions as arguments: Python allows you to pass functions as arguments to other functions. This enables you to implement higher-order functions, where functions can accept other functions as parameters and operate on them.\n",
    "\n",
    "Return functions from other functions: In Python, you can return a function as a value from another function. This ability is known as \"function returning,\" and it allows you to create dynamic functions or modify behavior based on certain conditions."
   ]
  },
  {
   "cell_type": "markdown",
   "id": "812cb9fb-f7a9-4a45-a6e0-4cf1712fcbfa",
   "metadata": {},
   "source": [
    "Q9. How do you distinguish between a wrapper, a wrapped feature, and a decorator?"
   ]
  },
  {
   "cell_type": "markdown",
   "id": "1b36bc01-301d-434b-9906-0e2e07043c60",
   "metadata": {},
   "source": [
    "Wrapper: A wrapper is a function or class that wraps around another function or class to modify or extend its behavior. It provides additional functionality before, after, or around the wrapped object's execution.\n",
    "\n",
    "Wrapped feature: The wrapped feature refers to the original function or class that is being wrapped or modified by the wrapper. It is the core functionality that the wrapper enhances or alters.\n",
    "\n",
    "Decorator: A decorator is a special type of wrapper that uses the @decorator_name syntax to modify the behavior of a function or class. It is a concise way to apply a wrapper to a target function or class definition."
   ]
  },
  {
   "cell_type": "markdown",
   "id": "c61b29dd-441e-4d81-9491-ffc1a02733a4",
   "metadata": {},
   "source": [
    "Q10. If a function is a generator function, what does it return?"
   ]
  },
  {
   "cell_type": "markdown",
   "id": "6693fa13-5877-4045-b299-93b32375dbca",
   "metadata": {},
   "source": [
    "A generator function in Python returns a generator object. When you call a generator function, it doesn't execute the code immediately like a regular function. Instead, it returns a generator object, which can be iterated over to retrieve the values generated by the function."
   ]
  },
  {
   "cell_type": "markdown",
   "id": "97465719-7cbf-4bd7-a0f6-fee37379a9c1",
   "metadata": {},
   "source": [
    "Q11. What is the one improvement that must be made to a function in order for it to become a generator function in the Python language?"
   ]
  },
  {
   "cell_type": "markdown",
   "id": "c0960be8-47d0-4a57-b63c-b5c7af14f9ce",
   "metadata": {},
   "source": [
    "To convert a regular function into a generator function in Python, you need to make one important improvement: include the yield statement in the function body."
   ]
  },
  {
   "cell_type": "markdown",
   "id": "2b4f6de5-40c9-4df9-8c9d-fbfa30bc1d3e",
   "metadata": {},
   "source": [
    "Q12. Identify at least one benefit of generators."
   ]
  },
  {
   "cell_type": "markdown",
   "id": "108694ac-3b5a-4480-a081-3c08d1ade783",
   "metadata": {},
   "source": [
    "One benefit of generators in Python is their memory efficiency. Generators allow you to generate and process values one at a time, on-demand, instead of generating all values at once and storing them in memory like a list or tuple."
   ]
  }
 ],
 "metadata": {
  "kernelspec": {
   "display_name": "Python 3 (ipykernel)",
   "language": "python",
   "name": "python3"
  },
  "language_info": {
   "codemirror_mode": {
    "name": "ipython",
    "version": 3
   },
   "file_extension": ".py",
   "mimetype": "text/x-python",
   "name": "python",
   "nbconvert_exporter": "python",
   "pygments_lexer": "ipython3",
   "version": "3.10.6"
  }
 },
 "nbformat": 4,
 "nbformat_minor": 5
}
