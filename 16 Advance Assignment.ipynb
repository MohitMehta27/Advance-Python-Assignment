{
 "cells": [
  {
   "cell_type": "markdown",
   "id": "3ca4f79f-8351-4497-b7dc-4234462db39c",
   "metadata": {},
   "source": [
    "Q1. What is the benefit of regular expressions?"
   ]
  },
  {
   "cell_type": "markdown",
   "id": "b19c8d4f-4a09-4847-bbc4-de924a37958e",
   "metadata": {},
   "source": [
    "1. Efficient pattern matching and text manipulation.\n",
    "2. Enables finding and extracting specific information quickly.\n",
    "3. Flexible syntax for defining complex patterns.\n",
    "4. Streamlines data cleaning and text preprocessing tasks.\n",
    "5. Widely supported and standardized across programming languages and tools.\n",
    "6. Optimized algorithms for fast performance.\n",
    "7. Concise and readable code for complex matching tasks.\n",
    "8. Reduces the need for lengthy string manipulation functions.\n",
    "9. Can handle large amounts of text efficiently.\n",
    "10. Empowers developers with a powerful tool for text processing and analysis."
   ]
  },
  {
   "cell_type": "markdown",
   "id": "dc684f7f-2c70-43f9-a4d3-9429cc5ab8e8",
   "metadata": {},
   "source": [
    "Q2. Describe the difference between the effects of \"(ab)c+\" and \"a(bc)+.\" Which of these, if any, is the unqualified pattern \"abc+\"?"
   ]
  },
  {
   "cell_type": "markdown",
   "id": "2fdba045-1217-4402-b985-59709d157e57",
   "metadata": {},
   "source": [
    "\"(ab)c+\": This pattern matches a string that starts with \"ab\" followed by one or more occurrences of the letter \"c\". It captures the group \"ab\" as a whole, and the letter \"c\" is allowed to repeat one or more times. For example, it would match \"abc\", \"abcc\", \"abccc\", and so on.\n",
    "\n",
    "\"a(bc)+\": This pattern matches a string that starts with the letter \"a\" followed by one or more occurrences of the group \"bc\". The group \"bc\" is captured as a whole, and it must repeat one or more times. For example, it would match \"abc\", \"abcbc\", \"abcbcbc\", and so on."
   ]
  },
  {
   "cell_type": "markdown",
   "id": "0d47faff-2e91-474f-92f5-3372d6ae0403",
   "metadata": {},
   "source": [
    "Q3. How much do you need to use the following sentence while using regular expressions?\n",
    "\n",
    "import re"
   ]
  },
  {
   "cell_type": "markdown",
   "id": "e54e2d0a-f582-4c36-b3eb-7d9ffdd1179b",
   "metadata": {},
   "source": [
    "The sentence \"import re\" is typically used at the beginning of a Python script or module when you want to import the regular expressions module, \"re\". It is necessary to include this line of code when you want to use regular expressions in your Python code"
   ]
  },
  {
   "cell_type": "markdown",
   "id": "9ae611e6-0d08-4798-90b6-724718942865",
   "metadata": {},
   "source": [
    "Q4. Which characters have special significance in square brackets when expressing a range, and under what circumstances?"
   ]
  },
  {
   "cell_type": "markdown",
   "id": "343aa150-3bba-4a3d-9cf9-73642f3583c3",
   "metadata": {},
   "source": [
    "In regular expressions, square brackets [ ] are used to define a character class, which represents a set of characters. Inside square brackets, certain characters may have special significance when expressing a range. Here are the characters that have special meaning within square brackets:\n",
    "\n",
    "Hyphen (-): When placed between two characters inside square brackets, the hyphen denotes a character range. It represents all characters between and including the specified characters based on their Unicode values. For example, [a-z] represents all lowercase letters from 'a' to 'z', while [0-9] represents all digits from 0 to 9.\n",
    "\n",
    "Caret (^): When used as the first character inside square brackets, the caret has a special meaning. It negates the character class, indicating that the pattern should match any character that is not listed within the square brackets. For example, [^0-9] matches any character that is not a digit."
   ]
  },
  {
   "cell_type": "markdown",
   "id": "27d65343-370f-418c-a8a2-9bfde20d5df8",
   "metadata": {},
   "source": [
    "Q5. How does compiling a regular-expression object benefit you?"
   ]
  },
  {
   "cell_type": "markdown",
   "id": "9ddfe8bc-9ad9-4c3c-a823-91cc93799aef",
   "metadata": {},
   "source": [
    "Compiling a regular expression object benefits you by improving performance, making the code more readable and maintainable, enabling reusability, providing access to additional methods, and facilitating better error handling."
   ]
  },
  {
   "cell_type": "markdown",
   "id": "87ca528e-0001-449f-8916-5f9dc2af4a4b",
   "metadata": {},
   "source": [
    "Q6. What are some examples of how to use the match object returned by re.match and re.search?"
   ]
  },
  {
   "cell_type": "code",
   "execution_count": 1,
   "id": "9a60a400-8f87-4c72-9e44-634ce19349ef",
   "metadata": {},
   "outputs": [
    {
     "name": "stdout",
     "output_type": "stream",
     "text": [
      "Pattern matched!\n",
      "World\n",
      "7\n",
      "12\n",
      "(7, 12)\n"
     ]
    }
   ],
   "source": [
    "#Checking if a pattern matches\n",
    "import re\n",
    "\n",
    "text = \"Hello, World!\"\n",
    "pattern = r\"Hello\"\n",
    "match = re.match(pattern, text)\n",
    "if match:\n",
    "    print(\"Pattern matched!\")  \n",
    "    \n",
    "#Retrieving the matched substring and position\n",
    "\n",
    "text = \"Hello, World!\"\n",
    "pattern = r\"World\"\n",
    "match = re.search(pattern, text)\n",
    "if match:\n",
    "    print(match.group())  \n",
    "    print(match.start())  \n",
    "    print(match.end())    \n",
    "    print(match.span())   \n",
    "\n"
   ]
  },
  {
   "cell_type": "markdown",
   "id": "63d73611-43ae-49de-af97-8a4d4c19cf65",
   "metadata": {},
   "source": [
    "Q7. What is the difference between using a vertical bar (|) as an alteration and using square brackets as a character set?"
   ]
  },
  {
   "cell_type": "code",
   "execution_count": null,
   "id": "98629a74-7d2d-47ee-af37-9b7d94baa27f",
   "metadata": {},
   "outputs": [],
   "source": [
    "#Vertical bar as an alteration: The vertical bar | is used to specify alternation, which allows you to match one pattern or another. It represents logical OR\n",
    "import re\n",
    "\n",
    "text = \"cat dog\"\n",
    "pattern = r\"cat|dog\"\n",
    "match = re.search(pattern, text)\n",
    "if match:\n",
    "    print(\"Match found!\") \n",
    "    \n",
    "#Square brackets as a character set: Square brackets [] are used to define a character set, allowing you to specify a set of characters that can match at that position. It represents any single character within the set.\n",
    "\n",
    "text = \"cat dog\"\n",
    "pattern = r\"[cd]at\"\n",
    "match = re.search(pattern, text)\n",
    "if match:\n",
    "    print(\"Match found!\")  \n"
   ]
  },
  {
   "cell_type": "markdown",
   "id": "9c391d51-e748-4b62-a7f7-78e05f673f33",
   "metadata": {},
   "source": [
    "Q8. In regular-expression search patterns, why is it necessary to use the raw-string indicator (r)? In replacement strings?"
   ]
  },
  {
   "cell_type": "markdown",
   "id": "9a0a9fb3-62ee-4c17-9fc1-ad0334438503",
   "metadata": {},
   "source": [
    "In regular-expression search patterns and replacement strings, using the raw-string indicator (r) is not always necessary but is often recommended to avoid unintended interpretation or escaping of special characters. The use of raw strings (r\"pattern\") is particularly useful in regular-expression search patterns to prevent unwanted escaping of backslashes and special characters. Regular expressions often include backslashes to escape metacharacters or to specify special sequences. By using raw strings, backslashes are treated as literal backslashes, ensuring that the pattern is interpreted correctly"
   ]
  }
 ],
 "metadata": {
  "kernelspec": {
   "display_name": "Python 3 (ipykernel)",
   "language": "python",
   "name": "python3"
  },
  "language_info": {
   "codemirror_mode": {
    "name": "ipython",
    "version": 3
   },
   "file_extension": ".py",
   "mimetype": "text/x-python",
   "name": "python",
   "nbconvert_exporter": "python",
   "pygments_lexer": "ipython3",
   "version": "3.10.6"
  }
 },
 "nbformat": 4,
 "nbformat_minor": 5
}
