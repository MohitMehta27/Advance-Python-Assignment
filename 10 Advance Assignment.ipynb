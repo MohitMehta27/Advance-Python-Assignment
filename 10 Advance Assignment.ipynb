{
 "cells": [
  {
   "cell_type": "markdown",
   "id": "69d4628f-856f-4747-91ed-884e62749446",
   "metadata": {},
   "source": [
    "Q1. What is the difference between __getattr__ and __getattribute__?"
   ]
  },
  {
   "cell_type": "markdown",
   "id": "f727cc8d-e3ec-4884-a2d2-5f787ad2c6f9",
   "metadata": {},
   "source": [
    "__getattr__ is called when an attribute is accessed and not found through the normal lookup process. It acts as a fallback mechanism, allowing customization for non-existing or dynamically computed attributes. It is only invoked when the attribute is not found in the object's dictionary or its class hierarchy.\n",
    "\n",
    "On the other hand, __getattribute__ is called for every attribute access, regardless of whether the attribute exists or not. It is a powerful method that intercepts all attribute accesses and allows for attribute manipulation or logging. However, care must be taken within __getattribute__ to avoid infinite recursion when accessing attributes through self.attribute_name."
   ]
  },
  {
   "cell_type": "markdown",
   "id": "a07c2215-cd67-4a1f-9c88-334515ca19b7",
   "metadata": {},
   "source": [
    "Q2. What is the difference between properties and descriptors?"
   ]
  },
  {
   "cell_type": "code",
   "execution_count": null,
   "id": "3d24a9ac-18f4-45fb-a9c9-fb0cd08ca041",
   "metadata": {},
   "outputs": [],
   "source": [
    "Properties:\n",
    "\n",
    "Properties are a higher-level concept built on top of descriptors.\n",
    "They are defined within a class using the @property decorator or as methods with the @property decorator.\n",
    "Properties provide a way to define getter, setter, and deleter methods for an attribute, allowing control over attribute access and modification.\n",
    "They are accessed and assigned like regular attributes, but behind the scenes, the defined methods are invoked.\n",
    "Properties are tied to specific attributes and are typically used for computed or derived attributes.\n",
    "Descriptors:\n",
    "\n",
    "Descriptors are a lower-level concept and offer more fine-grained control over attribute access.\n",
    "They are defined as classes implementing the descriptor protocol, which includes __get__, __set__, and __delete__ methods.\n",
    "Descriptors can be assigned to class attributes and are responsible for handling attribute access and modification.\n",
    "They can intercept attribute access at the class level and provide custom behavior, such as validation, conversion, or delegation.\n",
    "Descriptors are not tied to a specific attribute name and can be shared across multiple attributes."
   ]
  },
  {
   "cell_type": "markdown",
   "id": "5ff396dc-18ed-4cd8-853a-b637c507ca74",
   "metadata": {},
   "source": [
    "Q3. What are the key differences in functionality between __getattr__ and __getattribute__, as well as\n",
    "properties and descriptors?"
   ]
  },
  {
   "cell_type": "markdown",
   "id": "ae0b00f2-3de6-478f-a9c1-0e3a47eb6fc5",
   "metadata": {},
   "source": [
    "__getattr__ vs. __getattribute__:\n",
    "\n",
    "__getattr__ is called only when an attribute is not found through the normal lookup process, allowing for customized handling of non-existing attributes. It acts as a fallback mechanism.\n",
    "__getattribute__ is called for every attribute access, regardless of existence, giving fine-grained control over attribute retrieval and modification. It intercepts all attribute accesses.\n",
    "Properties vs. Descriptors:\n",
    "\n",
    "Properties provide a convenient way to define computed attributes within a class. They use the @property decorator and allow for the definition of getter, setter, and deleter methods for an attribute.\n",
    "Descriptors, on the other hand, offer more flexibility and control over attribute access at the class level. They implement the descriptor protocol, providing __get__, __set__, and __delete__ methods to customize attribute retrieval, assignment, and deletion.\n",
    "Functionality differences:\n",
    "\n",
    "__getattr__ and properties are attribute-specific mechanisms, tied to a specific attribute name.\n",
    "__getattribute__ and descriptors can be applied at the class level and are not tied to a specific attribute name, allowing for broader customization across multiple attributes.\n",
    "__getattribute__ is more powerful and lower-level, intercepting all attribute accesses, while __getattr__ and properties offer higher-level abstractions for specific attribute handling.\n",
    "Descriptors provide a more fine-grained control over attribute access and modification compared to properties, as they can define custom behavior beyond simple getter, setter, and deleter methods."
   ]
  }
 ],
 "metadata": {
  "kernelspec": {
   "display_name": "Python 3 (ipykernel)",
   "language": "python",
   "name": "python3"
  },
  "language_info": {
   "codemirror_mode": {
    "name": "ipython",
    "version": 3
   },
   "file_extension": ".py",
   "mimetype": "text/x-python",
   "name": "python",
   "nbconvert_exporter": "python",
   "pygments_lexer": "ipython3",
   "version": "3.10.6"
  }
 },
 "nbformat": 4,
 "nbformat_minor": 5
}
