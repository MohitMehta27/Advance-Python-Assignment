{
 "cells": [
  {
   "cell_type": "code",
   "execution_count": null,
   "id": "308fb749-6a69-4960-9d00-9c9f5639c020",
   "metadata": {},
   "outputs": [],
   "source": [
    "1. What is the concept of an abstract superclass?"
   ]
  },
  {
   "cell_type": "markdown",
   "id": "31d9471f-d1b0-4066-940b-ec4f444538ca",
   "metadata": {},
   "source": [
    "An abstract superclass is a class that is designed to be subclassed but not instantiated directly.an abstract superclass provides a blueprint for other classes to follow, but cannot be used on its own.an abstract superclass is often implemented using the abc module and the ABC class. An ABC subclass is a class that cannot be instantiated directly and that requires its subclasses to implement certain methods. These methods are marked as abstract methods using the @abstractmethod decorator."
   ]
  },
  {
   "cell_type": "code",
   "execution_count": null,
   "id": "0064889b-b7fb-444a-91a3-9a6e8719d472",
   "metadata": {},
   "outputs": [],
   "source": [
    "2. What happens when a class statement's top level contains a basic assignment statement?"
   ]
  },
  {
   "cell_type": "markdown",
   "id": "d3234597-0287-4da4-b762-e01524f1f6c7",
   "metadata": {},
   "source": [
    "When a class statement's top level contains a basic assignment statement, the assignment statement creates a class variable that is shared by all instances of the class\n"
   ]
  },
  {
   "cell_type": "code",
   "execution_count": null,
   "id": "370b867c-f67d-4fdf-8c20-b86776c0e33f",
   "metadata": {},
   "outputs": [],
   "source": [
    "3. Why does a class need to manually call a superclass's __init__ method?"
   ]
  },
  {
   "cell_type": "markdown",
   "id": "e484a37b-4224-4dac-adcd-852836498e98",
   "metadata": {},
   "source": [
    "A class needs to manually call a superclass's __init__ method to ensure that the superclass's initialization code is executed when creating an instance of the subclass.When a subclass is created, it inherits all of the attributes and methods of its superclass. However, it does not automatically inherit the superclass's __init__ method. If the subclass defines its own __init__ method, it will override the superclass's __init__ method unless the subclass calls the superclass's __init__ method explicitly."
   ]
  },
  {
   "cell_type": "code",
   "execution_count": null,
   "id": "82c97108-0fab-4734-b0fa-eaf5020a9ff2",
   "metadata": {},
   "outputs": [],
   "source": [
    "4. How can you augment, instead of completely replacing, an inherited method?"
   ]
  },
  {
   "cell_type": "markdown",
   "id": "a1f3af9c-24d5-4d29-a3a4-b35056b14162",
   "metadata": {},
   "source": [
    "By overriding the method and calling the superclass's implementation of the method using the super() function."
   ]
  },
  {
   "cell_type": "code",
   "execution_count": null,
   "id": "9604af9e-1682-4374-b960-4fb87b0a3ff3",
   "metadata": {},
   "outputs": [],
   "source": [
    "5. How is the local scope of a class different from that of a function?"
   ]
  },
  {
   "cell_type": "markdown",
   "id": "f74d7536-abf2-4827-b0f2-b3efa70b8b87",
   "metadata": {},
   "source": [
    "In a function, the local scope is created when the function is called, and it is destroyed when the function returns. Any variables defined within the function are local variables, and they are only accessible within the function.In a class, the local scope is created when the class is defined, and it persists for the lifetime of the class. Any variables defined within a class method are local variables, and they are only accessible within the method. However, class attributes are accessible from all instances of the class."
   ]
  }
 ],
 "metadata": {
  "kernelspec": {
   "display_name": "Python 3 (ipykernel)",
   "language": "python",
   "name": "python3"
  },
  "language_info": {
   "codemirror_mode": {
    "name": "ipython",
    "version": 3
   },
   "file_extension": ".py",
   "mimetype": "text/x-python",
   "name": "python",
   "nbconvert_exporter": "python",
   "pygments_lexer": "ipython3",
   "version": "3.10.6"
  }
 },
 "nbformat": 4,
 "nbformat_minor": 5
}
