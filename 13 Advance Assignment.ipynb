{
 "cells": [
  {
   "cell_type": "markdown",
   "id": "80cccb85-c88d-45f5-b93c-c8d411f7486c",
   "metadata": {},
   "source": [
    "Q1. Can you create a programme or function that employs both positive and negative indexing? Is there any repercussion if you do so?"
   ]
  },
  {
   "cell_type": "code",
   "execution_count": 1,
   "id": "035febbf-e1cd-40ca-84f5-f7a524488de0",
   "metadata": {},
   "outputs": [
    {
     "name": "stdout",
     "output_type": "stream",
     "text": [
      "3\n",
      "5\n"
     ]
    }
   ],
   "source": [
    "def get_element(data, index):\n",
    "    length = len(data)\n",
    "    if -length <= index < length:\n",
    "        return data[index]\n",
    "    else:\n",
    "        raise IndexError(\"Index out of range\")\n",
    "\n",
    "my_list = [1, 2, 3, 4, 5]\n",
    "print(get_element(my_list, 2))    \n",
    "print(get_element(my_list, -1)) \n"
   ]
  },
  {
   "cell_type": "markdown",
   "id": "92637db3-36bb-4961-9288-22bd4faa133b",
   "metadata": {},
   "source": [
    "Q2. What is the most effective way of starting with 1,000 elements in a Python list? Assume that all elements should be set to the same value."
   ]
  },
  {
   "cell_type": "code",
   "execution_count": 7,
   "id": "cf14fa34-6a57-4853-89d5-08eb494607be",
   "metadata": {},
   "outputs": [],
   "source": [
    "lst = []\n",
    "for i in range(1000):\n",
    "    lst.append(0)"
   ]
  },
  {
   "cell_type": "markdown",
   "id": "2ce0521f-b598-4de3-a504-0251711bd066",
   "metadata": {},
   "source": [
    "Q3. How do you slice a list to get any other part while missing the rest? (For example, suppose you want to make a new list with the elements first, third, fifth, seventh, and so on.)"
   ]
  },
  {
   "cell_type": "code",
   "execution_count": 8,
   "id": "cdb26503-d5c6-46fd-ba52-5415bdd63360",
   "metadata": {},
   "outputs": [
    {
     "name": "stdout",
     "output_type": "stream",
     "text": [
      "[1, 3, 5, 7, 9]\n"
     ]
    }
   ],
   "source": [
    "original_list = [1, 2, 3, 4, 5, 6, 7, 8, 9, 10]\n",
    "new_list = original_list[::2]\n",
    "print(new_list)\n"
   ]
  },
  {
   "cell_type": "markdown",
   "id": "6271ec28-f922-4851-80a6-65b204083c93",
   "metadata": {},
   "source": [
    "Q4. Explain the distinctions between indexing and slicing."
   ]
  },
  {
   "cell_type": "markdown",
   "id": "adc1e2b9-b06f-48c1-b2cd-c7aeda26911c",
   "metadata": {},
   "source": [
    "indexing is used to access a single element at a specific position within a sequence using its index. Slicing is used to extract a subset of elements from a sequence by specifying a range of indices, allowing for the creation of new sequences with a desired subset of elements. They have distinct purposes and behaviors:\n",
    "Indexing:\n",
    "Indexing refers to accessing a specific element from a sequence using its position, known as the index.\n",
    "Indices are typically zero-based, meaning the first element has an index of 0, the second element has an index of 1, and so on.\n",
    "To index an element, you use square brackets [] with the index value inside them.\n",
    "Indexing retrieves a single element at a particular position within the sequence.\n",
    "Slicing:\n",
    "Slicing refers to extracting a contiguous subset of elements from a sequence.\n",
    "Slicing is done by specifying a range of indices using the start, stop, and step parameters.\n",
    "The start index is inclusive, the stop index is exclusive (the element at the stop index is not included), and the step indicates the stride or interval between elements in the slice.\n",
    "To slice a sequence, you use square brackets [] with the start, stop, and step values separated by colons :.\n",
    "Slicing returns a new sequence containing the selected elements from the original sequence."
   ]
  },
  {
   "cell_type": "markdown",
   "id": "fc60dd86-e308-489c-8a2e-7ae3466dbe73",
   "metadata": {},
   "source": [
    "Q5. What happens if one of the slicing expression's indexes is out of range?"
   ]
  },
  {
   "cell_type": "code",
   "execution_count": null,
   "id": "70562bb9-94bf-47a6-8f53-9280c751e3b4",
   "metadata": {},
   "outputs": [],
   "source": [
    "Start index out of range:\n",
    "If the start index is greater than the length of the sequence, an empty sequence is returned.\n",
    "If the start index is negative and its absolute value is greater than the length of the sequence, the start index is adjusted to 0, effectively starting the slice from the beginning of the sequence.\n",
    "\n",
    "Stop index out of range:\n",
    "If the stop index is greater than the length of the sequence, the slice includes all elements up to the end of the sequence.\n",
    "If the stop index is negative and its absolute value is greater than the length of the sequence, the stop index is adjusted to the length of the sequence, effectively including all elements in the slice.\n",
    "\n",
    "Step index out of range:\n",
    "If the step index is zero, Python raises a ValueError with the message \"slice step cannot be zero.\"\n",
    "If the step index is negative and the start index is greater than the stop index, an empty sequence is returned."
   ]
  },
  {
   "cell_type": "markdown",
   "id": "a6aeb6b0-a8ca-45da-bf63-4f62c45c929c",
   "metadata": {},
   "source": [
    "Q6. If you pass a list to a function, and if you want the function to be able to change the values of the list—so that the list is different after the function returns—what action should you avoid?"
   ]
  },
  {
   "cell_type": "code",
   "execution_count": 9,
   "id": "4b7162cb-0162-4347-ab68-eb9897e91390",
   "metadata": {},
   "outputs": [
    {
     "name": "stdout",
     "output_type": "stream",
     "text": [
      "['Hello', 2, 3, 42]\n"
     ]
    }
   ],
   "source": [
    "#To ensure that a function can modify the values of a list passed as an argument, you should avoid reassigning the list itself to a new list object within the function. Instead, you should modify the existing list in-place\n",
    "def modify_list(my_list):\n",
    "    my_list.append(42)\n",
    "    my_list[0] = 'Hello'\n",
    "\n",
    "a= [1, 2, 3]\n",
    "modify_list(a)\n",
    "print(a)  \n"
   ]
  },
  {
   "cell_type": "markdown",
   "id": "60dc58e2-7f89-46ec-8327-e6ea637e432e",
   "metadata": {},
   "source": [
    "Q7. What is the concept of an unbalanced matrix?"
   ]
  },
  {
   "cell_type": "markdown",
   "id": "bd19ce53-8304-4876-9d49-cf749145836f",
   "metadata": {},
   "source": [
    "The concept of an unbalanced matrix typically refers to a matrix where the number of rows and the number of columns are not equal. In other words, the matrix does not have a square shape where the number of rows is equal to the number of columns."
   ]
  },
  {
   "cell_type": "markdown",
   "id": "2b9c5c69-a00e-4de3-89d8-40659da32356",
   "metadata": {},
   "source": [
    "Q8. Why is it necessary to use either list comprehension or a loop to create arbitrarily large matrices?"
   ]
  },
  {
   "cell_type": "markdown",
   "id": "14300211-f4a5-47d9-9f40-30025377c3a9",
   "metadata": {},
   "source": [
    "To create arbitrarily large matrices, both list comprehension and loops are important and necessary for different reasons:\n",
    "List Comprehension:\n",
    "Concise and readable: List comprehension allows to express the element generation logic succinctly, improving code readability and reducing the number of lines required.\n",
    "Efficiency: List comprehension can be more efficient than traditional loops for creating large matrices because it is implemented internally using optimized mechanisms, such as generating elements using C extensions in Python.\n",
    "Expressive and flexible: List comprehension allows for complex expressions and conditional filtering, enabling you to create matrices based on specific conditions or patterns easily.\n",
    "\n",
    "Loops:\n",
    "Dynamic generation: Loops allow you to iteratively generate and append elements to the matrix, making it possible to handle large matrices without the need for excessive memory allocation upfront.\n",
    "Control over size and pattern: Loops provide fine-grained control over the size and pattern of the matrix. You can use loop variables to determine the number of rows and columns, incorporate conditional statements for irregular patterns, or perform calculations for element values based on specific rules or formulas."
   ]
  }
 ],
 "metadata": {
  "kernelspec": {
   "display_name": "Python 3 (ipykernel)",
   "language": "python",
   "name": "python3"
  },
  "language_info": {
   "codemirror_mode": {
    "name": "ipython",
    "version": 3
   },
   "file_extension": ".py",
   "mimetype": "text/x-python",
   "name": "python",
   "nbconvert_exporter": "python",
   "pygments_lexer": "ipython3",
   "version": "3.10.6"
  }
 },
 "nbformat": 4,
 "nbformat_minor": 5
}
