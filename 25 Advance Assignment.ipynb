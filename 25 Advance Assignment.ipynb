{
 "cells": [
  {
   "cell_type": "markdown",
   "id": "b2fde496-10e3-4126-a806-eaeb8dad24a1",
   "metadata": {},
   "source": [
    "Q1. What is the distinction between a numpy array and a pandas data frame? Is there a way to convert between the two if there is?"
   ]
  },
  {
   "cell_type": "markdown",
   "id": "07a178cf-2efc-4aec-af44-a09086553f46",
   "metadata": {},
   "source": [
    "NumPy arrays are multi-dimensional, homogeneous data structures primarily used for numerical computations, while pandas DataFrames are two-dimensional, labeled data structures with additional functionality for data analysis and manipulation. You can convert a NumPy array to a DataFrame using the pd.DataFrame() constructor and convert a DataFrame to a NumPy array using the .to_numpy() method."
   ]
  },
  {
   "cell_type": "markdown",
   "id": "d7147506-1e28-4a63-9ed0-260c678da5d1",
   "metadata": {},
   "source": [
    "Q2. What can go wrong when an user enters in a stock-ticker symbol, and how do you handle it?"
   ]
  },
  {
   "cell_type": "markdown",
   "id": "41fc0094-4225-4acc-ab1c-fd974c14ec7c",
   "metadata": {},
   "source": [
    "When a user enters a stock ticker symbol, several issues can occur:\n",
    "\n",
    "Invalid Ticker Symbol: The user may enter an invalid or non-existent stock ticker symbol. To handle this, you can perform validation by checking if the entered symbol exists in a database or by using an API to verify the symbol's validity.\n",
    "\n",
    "Case Sensitivity: Ticker symbols are often case-sensitive, so if the user enters the symbol in the wrong case, it may not match the expected format. You can handle this by converting the user input to a consistent case (e.g., uppercase) before processing or comparing it with known ticker symbols.\n",
    "\n",
    "Missing or Delayed Data: The entered symbol may be valid, but the data associated with it may be missing or delayed due to various reasons, such as network issues or data provider limitations. In such cases, you can handle it by displaying an appropriate message to the user, indicating that the data for the requested symbol is currently unavailable or delayed."
   ]
  },
  {
   "cell_type": "markdown",
   "id": "08b9823b-41a6-464b-b67b-4ae888014fbb",
   "metadata": {},
   "source": [
    "Q3. Identify some of the plotting techniques that are used to produce a stock-market chart."
   ]
  },
  {
   "cell_type": "markdown",
   "id": "0e7925f2-e2c9-46d4-8922-8cf4a2c3e6c3",
   "metadata": {},
   "source": [
    "Some common plotting techniques used for stock market charts include line charts, candlestick charts, OHLC charts, moving averages, Bollinger Bands, volume charts, and technical indicators like RSI and MACD. These techniques help visualize price trends, volatility, trading ranges, and market activity."
   ]
  },
  {
   "cell_type": "markdown",
   "id": "46b4a486-c249-4b31-8bcc-94d16baf7f66",
   "metadata": {},
   "source": [
    "Q4. Why is it essential to print a legend on a stock market chart?"
   ]
  },
  {
   "cell_type": "markdown",
   "id": "53661d81-25c2-4f76-b51f-44898aa82034",
   "metadata": {},
   "source": [
    "A legend is crucial on a stock market chart as it provides a visual guide to interpret the various elements such as lines, bars, or symbols. It identifies the meaning of different colors or patterns used for different data series, making it easier to understand the information presented. Without a legend, the chart can be confusing and difficult to interpret, especially when multiple data series are plotted. The legend helps users quickly associate specific elements with their corresponding data, improving the clarity and comprehension of the chart."
   ]
  },
  {
   "cell_type": "markdown",
   "id": "154560e9-7517-4195-a0c2-699a44275ebd",
   "metadata": {},
   "source": [
    "Q5. What is the best way to limit the length of a pandas data frame to less than a year?"
   ]
  },
  {
   "cell_type": "markdown",
   "id": "412574aa-b412-4ebb-bf50-067394a1d168",
   "metadata": {},
   "source": [
    "To limit the length of a pandas DataFrame to less than a year, you can use the pd.DateOffset function along with the date range filtering"
   ]
  },
  {
   "cell_type": "markdown",
   "id": "dcc84db4-35b8-4bee-8c0a-b3f29a9aa161",
   "metadata": {},
   "source": [
    "Q6. What is the definition of a 180-day moving average?"
   ]
  },
  {
   "cell_type": "markdown",
   "id": "97ca81f8-8f49-424e-8512-955975c0720b",
   "metadata": {},
   "source": [
    "A 180-day moving average is a technical indicator that calculates the average of the closing prices of a security or financial instrument over the past 180 trading days. It is used to smooth out short-term fluctuations in price data and identify long-term trends. By taking the average of a longer time period, the 180-day moving average provides a more stable line that helps traders and analysts understand the overall direction of the market. It is commonly used as a reference point for identifying potential support and resistance levels and making trading decisions based on the prevailing trend."
   ]
  },
  {
   "cell_type": "markdown",
   "id": "79a9978e-eef2-4b85-9697-24448583049d",
   "metadata": {},
   "source": [
    "Q7. Did the chapter's final example use \"indirect\" importing? If so, how exactly do you do it?"
   ]
  },
  {
   "cell_type": "markdown",
   "id": "7e55b2fd-1a36-44d3-a045-84a59998f6d4",
   "metadata": {},
   "source": [
    "Yes, the final example in the chapter uses \"indirect\" importing. Indirect importing refers to importing a module indirectly through another module. In the example, the module diveintomark is indirectly imported using the sys.modules dictionary. Here's an overview of how indirect importing works:\n",
    "\n",
    "1. The sys.modules dictionary contains a cache of all modules that have been previously imported.\n",
    "2. By accessing the desired module's entry in sys.modules, you can retrieve the module object.\n",
    "3. Assigning this module object to a variable allows you to use its attributes and functions."
   ]
  }
 ],
 "metadata": {
  "kernelspec": {
   "display_name": "Python 3 (ipykernel)",
   "language": "python",
   "name": "python3"
  },
  "language_info": {
   "codemirror_mode": {
    "name": "ipython",
    "version": 3
   },
   "file_extension": ".py",
   "mimetype": "text/x-python",
   "name": "python",
   "nbconvert_exporter": "python",
   "pygments_lexer": "ipython3",
   "version": "3.10.6"
  }
 },
 "nbformat": 4,
 "nbformat_minor": 5
}
