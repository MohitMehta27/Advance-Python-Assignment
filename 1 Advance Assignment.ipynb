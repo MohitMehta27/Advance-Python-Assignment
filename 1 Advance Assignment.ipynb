{
 "cells": [
  {
   "cell_type": "markdown",
   "id": "e57f1ef3-0837-4579-a312-5e12916b1a36",
   "metadata": {},
   "source": [
    "Q1. What is the purpose of Python's OOP?"
   ]
  },
  {
   "cell_type": "markdown",
   "id": "0d41f7bd-612c-4000-b127-354fd8258a74",
   "metadata": {},
   "source": [
    "The purpose of Python's Object-Oriented Programming (OOP) is to provide a way to structure programs using objects that encapsulate data and behavior. This approach allows developers to organize code into reusable and modular components, making it easier to manage and maintain complex systems."
   ]
  },
  {
   "cell_type": "code",
   "execution_count": null,
   "id": "af7136e0-8f79-441f-beeb-1498a1e5d8d4",
   "metadata": {},
   "outputs": [],
   "source": [
    "Q2. Where does an inheritance search look for an attribute?"
   ]
  },
  {
   "cell_type": "markdown",
   "id": "5415fb90-6bfd-4bac-be66-361d5b4e8c7c",
   "metadata": {},
   "source": [
    "When Python looks for an attribute in an inheritance chain, it follows a specific order called the Method Resolution Order (MRO). The MRO defines the order in which Python searches for attributes in a hierarchy of classes.When an attribute is accessed on an object, Python searches for it in the following order:\n",
    "\n",
    "The instance itself: Python first checks whether the instance has the attribute defined. If the attribute is found, the search stops.\n",
    "\n",
    "The instance's class: If the attribute is not found in the instance, Python looks for it in the class of the instance.\n",
    "\n",
    "The class hierarchy: If the attribute is not found in the instance's class, Python searches through the class hierarchy in the order specified by the MRO, looking for the attribute.\n",
    "\n",
    "The built-in object: If the attribute is not found in any of the classes in the hierarchy, Python finally looks in the built-in object."
   ]
  },
  {
   "cell_type": "code",
   "execution_count": null,
   "id": "18f6be17-d945-49fc-8d9e-fd91c249e6e0",
   "metadata": {},
   "outputs": [],
   "source": [
    "Q3. How do you distinguish between a class object and an instance object?"
   ]
  },
  {
   "cell_type": "markdown",
   "id": "77716f19-dc08-46c3-bca3-b70952d3f6d8",
   "metadata": {},
   "source": [
    "In Python, a class is a blueprint for creating objects, while an instance is a specific object created from a class. To distinguish between a class object and an instance object, can be done looking to following characteristics:\n",
    "\n",
    "Type: The type of a class object is \"type,\" while the type of an instance object is the class it was created from. \n",
    "Attributes: Class objects have class attributes that are shared by all instances of the class, while instance objects have instance attributes that are unique to each instance. Class attributes are defined within the class itself, while instance attributes are defined within the init() method of the class.\n",
    "Methods: Class objects can have class methods and static methods, which can be called on the class itself. Instance objects have instance methods, which can only be called on individual instances of the class."
   ]
  },
  {
   "cell_type": "code",
   "execution_count": null,
   "id": "71da98b0-93f7-434c-8543-310b5244abfa",
   "metadata": {},
   "outputs": [],
   "source": [
    "Q4. What makes the first argument in a class’s method function special?"
   ]
  },
  {
   "cell_type": "markdown",
   "id": "e3c0e863-83a9-43c9-a4d2-cb55a1f7f607",
   "metadata": {},
   "source": [
    "the first argument of a class method function is conventionally named \"self\". This is a special argument that refers to the instance of the class on which the method is being called. It is a reference to the object that the method is operating on."
   ]
  },
  {
   "cell_type": "code",
   "execution_count": null,
   "id": "1c712d41-5914-4f1e-9681-178a62a47f54",
   "metadata": {},
   "outputs": [],
   "source": [
    "Q5. What is the purpose of the __init__ method?"
   ]
  },
  {
   "cell_type": "markdown",
   "id": "639e2af3-fe2c-400d-b495-a890fa66e1d4",
   "metadata": {},
   "source": [
    "In Python, the __init__() method is a special method that is called when an instance of a class is created. It is commonly referred to as the \"constructor\" method because it initializes the attributes of the object when it is first created. The purpose of the __init__() method is to set the initial state of the object by assigning values to its attributes. "
   ]
  },
  {
   "cell_type": "code",
   "execution_count": null,
   "id": "12216147-6c11-4a85-bcd0-c8d251067be9",
   "metadata": {},
   "outputs": [],
   "source": [
    "Q6. What is the process for creating a class instance?"
   ]
  },
  {
   "cell_type": "code",
   "execution_count": null,
   "id": "233b7a0f-7ef6-412b-b560-f898866a413d",
   "metadata": {},
   "outputs": [],
   "source": [
    "#To create a class instance in Python, we need to follow these steps:\n",
    "#Define the class: First, define the class with the class keyword. This defines the blueprint or template for creating objects of that class.\n",
    "#Initialize the object: To create an instance of the class, call the class like a function and assign the result to a variable. This will create a new object of the class.\n",
    "#Example\n",
    "# Define the class\n",
    "class Rectangle:\n",
    "    def __init__(self, width, height):\n",
    "        self.width = width\n",
    "        self.height = height\n",
    "\n",
    "    def area(self):\n",
    "        return self.width * self.height\n",
    "\n",
    "# Create an instance of the class\n",
    "rect = Rectangle(5, 10)\n"
   ]
  },
  {
   "cell_type": "code",
   "execution_count": null,
   "id": "65f11b1e-485a-4a02-9a00-c16fa5d1b078",
   "metadata": {},
   "outputs": [],
   "source": [
    "Q7. What is the process for creating a class?"
   ]
  },
  {
   "cell_type": "markdown",
   "id": "4553eea0-f719-4d06-b96a-839c1867007e",
   "metadata": {},
   "source": [
    "Creating a class in programming typically involves the following steps:\n",
    "\n",
    "Choose a name for the class: The name should be descriptive and reflect the purpose of the class.\n",
    "\n",
    "Define the properties or attributes: These are the characteristics of the class that distinguish it from other classes. Properties can be variables that hold data or other objects.\n",
    "\n",
    "Define the methods: These are the functions or actions that the class can perform. Methods can be used to manipulate the properties or to interact with other objects.\n",
    "\n",
    "Define the constructor: This is a special method that is called when an object of the class is created. It is used to initialize the properties of the object.\n",
    "\n",
    "Define any other necessary methods or functions: These are methods that perform specific tasks and are relevant to the purpose of the class.\n",
    "\n",
    "Test the class: Create one or more instances of the class and use them to verify that the class is working as expected."
   ]
  },
  {
   "cell_type": "code",
   "execution_count": null,
   "id": "0ebd7290-ea08-4fdb-9b90-b82b1780e3a3",
   "metadata": {},
   "outputs": [],
   "source": [
    "Q8. How would you define the superclasses of a class?"
   ]
  },
  {
   "cell_type": "markdown",
   "id": "b279e37d-5755-4e5e-802e-415647bfb612",
   "metadata": {},
   "source": [
    "In object-oriented programming, a superclass is a class that is higher up in the inheritance hierarchy and from which a subclass inherits properties and methods. A superclass can also be referred to as a parent class or a base class."
   ]
  }
 ],
 "metadata": {
  "kernelspec": {
   "display_name": "Python 3 (ipykernel)",
   "language": "python",
   "name": "python3"
  },
  "language_info": {
   "codemirror_mode": {
    "name": "ipython",
    "version": 3
   },
   "file_extension": ".py",
   "mimetype": "text/x-python",
   "name": "python",
   "nbconvert_exporter": "python",
   "pygments_lexer": "ipython3",
   "version": "3.10.6"
  }
 },
 "nbformat": 4,
 "nbformat_minor": 5
}
