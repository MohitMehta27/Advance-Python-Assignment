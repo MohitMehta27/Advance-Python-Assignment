{
 "cells": [
  {
   "cell_type": "markdown",
   "id": "3eb9f754-1883-4617-aee8-c8813b49477a",
   "metadata": {},
   "source": [
    "Q1. What is the meaning of multiple inheritance?"
   ]
  },
  {
   "cell_type": "markdown",
   "id": "1b854561-85bb-466c-ae0a-040a154f1d2f",
   "metadata": {},
   "source": [
    "When a class has multiple superclasses and it inherits all the attributes and methods of each superclass. This allows the class to combine the behavior of multiple classes and provide more flexible and powerful functionality.Multiple inheritance is a feature of object-oriented programming languages that allows a class to inherit attributes and methods from more than one parent class."
   ]
  },
  {
   "cell_type": "markdown",
   "id": "88c8d364-f077-4eb2-a007-f9bacf3eefb4",
   "metadata": {},
   "source": [
    "Q2. What is the concept of delegation?"
   ]
  },
  {
   "cell_type": "markdown",
   "id": "a150bf18-4aad-458d-a9a5-e68e0ead3a0a",
   "metadata": {},
   "source": [
    "Delegation is a programming concept in which an object passes responsibility for a task to another object. In Python, delegation is typically achieved through composition, which is the practice of including an instance of another class as an attribute in your class."
   ]
  },
  {
   "cell_type": "markdown",
   "id": "23dcfad0-403f-4e44-9464-5aa5f7814762",
   "metadata": {},
   "source": [
    "Q3. What is the concept of composition?"
   ]
  },
  {
   "cell_type": "markdown",
   "id": "ee982de5-da4e-4ed4-9901-21ea236c83b4",
   "metadata": {},
   "source": [
    "Composition is a way of building complex objects or classes by combining smaller, simpler objects. It allows to create new classes that are made up of one or more instances of existing classes, known as \"components\".The idea behind composition is to build a larger, more complex object by combining smaller, simpler objects that have specific, well-defined functionalities. These smaller objects can be reused in other contexts, and by composing them together, you can create more complex objects that have more functionality than any of the individual components alone."
   ]
  },
  {
   "cell_type": "markdown",
   "id": "1c2041c1-194e-4aca-bab9-66ff81730527",
   "metadata": {},
   "source": [
    "Q4. What are bound methods and how do we use them?"
   ]
  },
  {
   "cell_type": "markdown",
   "id": "b0e9891a-861b-46fb-abe4-bddcd4f512da",
   "metadata": {},
   "source": [
    "A bound method is a function that is bound to an object instance. When you call a bound method, it automatically passes the instance as the first argument to the method. This allows the method to access and manipulate the data associated with that instance.To create a bound method, you define a function within a class and then bind it to an instance of that class using the dot notation."
   ]
  },
  {
   "cell_type": "markdown",
   "id": "3fd5634f-512d-4598-bff0-650c43dd3424",
   "metadata": {},
   "source": [
    "Q5. What is the purpose of pseudoprivate attributes?"
   ]
  },
  {
   "cell_type": "markdown",
   "id": "06a091a6-44e8-45fe-83ec-2b6b3f139529",
   "metadata": {},
   "source": [
    "Pseudoprivate attributes are a naming convention used to indicate that an attribute should not be accessed or modified outside of the class it belongs to. They are created by prefixing the attribute name with two underscores"
   ]
  }
 ],
 "metadata": {
  "kernelspec": {
   "display_name": "Python 3 (ipykernel)",
   "language": "python",
   "name": "python3"
  },
  "language_info": {
   "codemirror_mode": {
    "name": "ipython",
    "version": 3
   },
   "file_extension": ".py",
   "mimetype": "text/x-python",
   "name": "python",
   "nbconvert_exporter": "python",
   "pygments_lexer": "ipython3",
   "version": "3.10.6"
  }
 },
 "nbformat": 4,
 "nbformat_minor": 5
}
