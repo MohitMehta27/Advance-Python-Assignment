{
 "cells": [
  {
   "cell_type": "code",
   "execution_count": null,
   "id": "f0c9bbe8-6383-42b0-a09b-cd5d54ea308e",
   "metadata": {},
   "outputs": [],
   "source": [
    "Q1. What are the two latest user-defined exception constraints in Python 3.X?"
   ]
  },
  {
   "cell_type": "markdown",
   "id": "c4bfee87-99f7-4538-921b-9c22a175be78",
   "metadata": {},
   "source": [
    "1. PEP 585 -- Type Hinting Generics In Standard Collections\n",
    "2. PEP 409 -- Suppressing Exception Context"
   ]
  },
  {
   "cell_type": "code",
   "execution_count": null,
   "id": "d04d76ee-0e6b-42bd-9c56-bdc791f60456",
   "metadata": {},
   "outputs": [],
   "source": [
    "Q2. How are class-based exceptions that have been raised matched to handlers?"
   ]
  },
  {
   "cell_type": "markdown",
   "id": "7614b7d7-161c-47c8-80d2-2fabcdd6e235",
   "metadata": {},
   "source": [
    "Class-based exceptions that have been raised are matched to exception handlers based on the inheritance hierarchy and the order in which the except blocks are defined. When an exception is raised, Python searches for an appropriate except block to handle the exception by checking if the exception type is a subclass of the types specified in the except statements."
   ]
  },
  {
   "cell_type": "code",
   "execution_count": null,
   "id": "c8f9ac94-9d7d-4b22-b555-d6da88ed6024",
   "metadata": {},
   "outputs": [],
   "source": [
    "Q3. Describe two methods for attaching context information to exception artefacts."
   ]
  },
  {
   "cell_type": "markdown",
   "id": "ebe74284-2bd0-43d4-ba80-4533bde71e32",
   "metadata": {},
   "source": [
    "Exception Chaining: Exception chaining allows you to attach additional context information to an exception by preserving the original exception as the cause of a new exception. This can be achieved using the from keyword when raising a new exception. By including the original exception as the cause, you create a chain of exceptions that provide a clear traceback and include the relevant context."
   ]
  },
  {
   "cell_type": "code",
   "execution_count": null,
   "id": "b5dfb4cc-b9cd-49d6-b58c-45c1e43dc6d7",
   "metadata": {},
   "outputs": [],
   "source": [
    "Q4. Describe two methods for specifying the text of an exception object's error message."
   ]
  },
  {
   "cell_type": "markdown",
   "id": "bf19340d-3835-4133-8acb-e53629b66d2e",
   "metadata": {},
   "source": [
    "Exception Attributes: Another method is to attach context information to an exception by defining custom attributes within the exception class. These attributes can store relevant information, such as timestamps, input values, or additional details that provide context about the exception. By accessing these attributes, you can retrieve the associated context information during exception handling."
   ]
  },
  {
   "cell_type": "code",
   "execution_count": null,
   "id": "977da764-614f-4b69-a30b-0b45e6eeefa9",
   "metadata": {},
   "outputs": [],
   "source": [
    "Q5. Why do you no longer use string-based exceptions?"
   ]
  },
  {
   "cell_type": "markdown",
   "id": "52464ac9-4f48-4c90-bc0d-4b3d5215c163",
   "metadata": {},
   "source": [
    "Using string-based exceptions has several drawbacks:\n",
    "Lack of Clarity\n",
    "No Exception Hierarchy\n",
    "Limited Exception Methods\n",
    "Code Maintainability"
   ]
  }
 ],
 "metadata": {
  "kernelspec": {
   "display_name": "Python 3 (ipykernel)",
   "language": "python",
   "name": "python3"
  },
  "language_info": {
   "codemirror_mode": {
    "name": "ipython",
    "version": 3
   },
   "file_extension": ".py",
   "mimetype": "text/x-python",
   "name": "python",
   "nbconvert_exporter": "python",
   "pygments_lexer": "ipython3",
   "version": "3.10.6"
  }
 },
 "nbformat": 4,
 "nbformat_minor": 5
}
