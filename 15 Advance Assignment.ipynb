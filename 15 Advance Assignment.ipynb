{
 "cells": [
  {
   "cell_type": "markdown",
   "id": "893b3813-a216-4b36-8460-5698310bd71d",
   "metadata": {},
   "source": [
    "1. What are the new features added in Python 3.8 version?"
   ]
  },
  {
   "cell_type": "markdown",
   "id": "7418d44d-d8ba-4a09-85e4-56e1f00d2079",
   "metadata": {},
   "source": [
    "Assignment Expressions (the \"walrus operator\"): Introduced the := operator, allowing assignment expressions within other expressions. It enables you to assign a value to a variable as part of a larger expression, making the code more concise and readable.\n",
    "\n",
    "Positional-only parameters: Function parameters can now be designated as positional-only, which means they can only be specified by position and not by keyword. This feature allows library developers to have more control over the API of their functions.\n",
    "\n",
    "f-strings support = for self-documenting expressions: f-strings gained support for the = specifier, which facilitates debugging by displaying both the expression and its value during string interpolation.\n",
    "\n",
    "Syntax warning mode: Python 3.8 introduced a new command-line flag (-X) and an environment variable (PYTHONWARNINGS) to control the behavior of warning messages. It allows developers to fine-tune the warning messages displayed by Python.\n",
    "\n",
    "The math.prod() function: A new math.prod() function was added to the math module. It calculates the product of all the elements in an iterable, providing a concise way to perform mathematical products."
   ]
  },
  {
   "cell_type": "markdown",
   "id": "2d36fa74-1ede-431f-bbc1-9d13f0d7354e",
   "metadata": {},
   "source": [
    "2. What is monkey patching in Python?"
   ]
  },
  {
   "cell_type": "markdown",
   "id": "8825e09b-3d69-498c-9ff1-f1966635525d",
   "metadata": {},
   "source": [
    "Monkey patching refers to the practice of modifying or extending existing code at runtime, typically by adding, replacing, or modifying methods or attributes of an object or a class. It allows you to modify the behavior of existing code without changing its source code."
   ]
  },
  {
   "cell_type": "markdown",
   "id": "50c1b06d-c25f-4224-8cf1-e8066b037a48",
   "metadata": {},
   "source": [
    "3. What is the difference between a shallow copy and deep copy?"
   ]
  },
  {
   "cell_type": "markdown",
   "id": "0ce3a17d-6448-468c-9da7-fe79582661e4",
   "metadata": {},
   "source": [
    "A shallow copy creates a new object and then copies the references of the original object's elements to the new object. In other words, the new object references the same elements as the original object. If the elements themselves are mutable, changes to these elements will be reflected in both the original and the copied object.\n",
    "\n",
    "On the other hand, a deep copy creates a new object and recursively copies all the objects it references, creating a completely independent copy. Changes made to the elements in either the original or the copied object will not affect the other."
   ]
  },
  {
   "cell_type": "markdown",
   "id": "3fe7c967-bf5d-4819-ae55-93b2d5b650d7",
   "metadata": {},
   "source": [
    "4. What is the maximum possible length of an identifier?"
   ]
  },
  {
   "cell_type": "markdown",
   "id": "17b2208a-b8cd-419c-a326-4022a2f8c6ec",
   "metadata": {},
   "source": [
    "In Python, the maximum possible length of an identifier is not explicitly defined by the language specification. However, there are practical limitations based on the implementation and platform. In the Python implementation, which is the reference implementation of Python, identifiers can be of any length as long as they fit within the memory constraints of the system. The actual limit would depend on the available memory and the maximum size of a string that can be stored in memory."
   ]
  },
  {
   "cell_type": "markdown",
   "id": "53ddc15a-bb5a-45b5-821c-a74f138c5fc3",
   "metadata": {},
   "source": [
    "5. What is generator comprehension?"
   ]
  },
  {
   "cell_type": "markdown",
   "id": "6b9f5b29-12ba-4052-b53e-beee9197b922",
   "metadata": {},
   "source": [
    "A generator comprehension, also known as a generator expression, is a concise way to create a generator object in Python. It allows you to generate values on-the-fly without storing them all in memory at once, which can be beneficial for efficiency and memory usage."
   ]
  }
 ],
 "metadata": {
  "kernelspec": {
   "display_name": "Python 3 (ipykernel)",
   "language": "python",
   "name": "python3"
  },
  "language_info": {
   "codemirror_mode": {
    "name": "ipython",
    "version": 3
   },
   "file_extension": ".py",
   "mimetype": "text/x-python",
   "name": "python",
   "nbconvert_exporter": "python",
   "pygments_lexer": "ipython3",
   "version": "3.10.6"
  }
 },
 "nbformat": 4,
 "nbformat_minor": 5
}
