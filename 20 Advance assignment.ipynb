{
 "cells": [
  {
   "cell_type": "markdown",
   "id": "4b70cb64-329a-42e7-87fa-12d5c360c322",
   "metadata": {},
   "source": [
    "1. Compare and contrast the float and Decimal classes' benefits and drawbacks."
   ]
  },
  {
   "cell_type": "markdown",
   "id": "d938a104-dcc7-4826-9bd0-28aa1d233a28",
   "metadata": {},
   "source": [
    "In short:\n",
    "\n",
    "float class:\n",
    "\n",
    "Benefits: Wide range, fast arithmetic, memory efficiency, built-in functions.\n",
    "Drawbacks: Limited precision, floating-point arithmetic issues, potential inaccuracies in decimal representation.\n",
    "Decimal class:\n",
    "\n",
    "Benefits: Arbitrary precision, exact decimal representation, control over precision, decimal context.\n",
    "Drawbacks: Slower performance, higher memory usage, limited range."
   ]
  },
  {
   "cell_type": "markdown",
   "id": "cd8f729d-f62b-4926-91b1-668232552e6a",
   "metadata": {},
   "source": [
    "2. Decimal('1.200') and Decimal('1.2') are two objects to consider. In what sense are these the same object? Are these just two ways of representing the exact same value, or do they correspond to different internal states?"
   ]
  },
  {
   "cell_type": "markdown",
   "id": "8e3ba2d2-402e-4eec-a01f-2df8b99bd37c",
   "metadata": {},
   "source": [
    "Decimal('1.200') and Decimal('1.2') are two different objects representing the same numerical value of 1.2. They correspond to different internal states as the trailing zeros in '1.200' indicate a higher precision compared to '1.2'. While they represent the same value, they have distinct internal representations reflecting their specified precision or formatting."
   ]
  },
  {
   "cell_type": "markdown",
   "id": "b8c4e842-b7ad-45df-9517-2b9bd0102c38",
   "metadata": {},
   "source": [
    "3. What happens if the equality of Decimal('1.200') and Decimal('1.2') is checked?"
   ]
  },
  {
   "cell_type": "markdown",
   "id": "ea8e0552-55a6-4143-b2bb-2ddd8bcc22cb",
   "metadata": {},
   "source": [
    "If the equality of Decimal('1.200') and Decimal('1.2') is checked using the == operator or the Decimal.__eq__() method, the result will be True. The Decimal class in Python overrides the equality comparison operator to compare the numerical values of Decimal objects. It disregards trailing zeros and compares the actual decimal values. In this case, both '1.200' and '1.2' represent the same value of 1.2, so the equality comparison will evaluate to True."
   ]
  },
  {
   "cell_type": "markdown",
   "id": "4394a5eb-c132-464f-982d-0470b3b2d260",
   "metadata": {},
   "source": [
    "4. Why is it preferable to start a Decimal object with a string rather than a floating-point value?"
   ]
  },
  {
   "cell_type": "markdown",
   "id": "4b1dfb25-67fd-4695-9c55-95495b1487a8",
   "metadata": {},
   "source": [
    "It is preferable to start a Decimal object with a string rather than a floating-point value to avoid potential precision loss and rounding errors that can occur when converting floating-point numbers to decimal representation."
   ]
  },
  {
   "cell_type": "markdown",
   "id": "b42ff7ee-cb17-4042-b38f-e9ba432ee966",
   "metadata": {},
   "source": [
    "5. In an arithmetic phrase, how simple is it to combine Decimal objects with integers?"
   ]
  },
  {
   "cell_type": "markdown",
   "id": "85355cad-5f66-4da3-828a-d33b5991913f",
   "metadata": {},
   "source": [
    "Combining Decimal objects with integers in arithmetic operations is straightforward and simple. The Decimal class in Python allows for seamless integration with integer values without any additional complexity.\n",
    "\n",
    "When performing arithmetic operations between a Decimal object and an integer, Python automatically handles the conversion and ensures accurate results. The Decimal class provides appropriate methods and operators to perform addition, subtraction, multiplication, division, and other arithmetic operations involving Decimal objects and integers."
   ]
  },
  {
   "cell_type": "markdown",
   "id": "8b14934d-26b6-45e2-b42c-5507c7a528f5",
   "metadata": {},
   "source": [
    "6. Can Decimal objects and floating-point values be combined easily?"
   ]
  },
  {
   "cell_type": "markdown",
   "id": "6b900776-615e-4fe5-997f-4f42751370a8",
   "metadata": {},
   "source": [
    "Combining Decimal objects and floating-point values in arithmetic operations requires some consideration due to the potential for precision loss and rounding errors. When a Decimal object is combined with a floating-point value, Python automatically performs a conversion, treating the floating-point value as a Decimal object internally. However, since floating-point numbers have inherent limitations in precision, there is a risk of introducing inaccuracies during the conversion process. To mitigate precision issues, it is generally recommended to convert the floating-point value to a Decimal object explicitly before performing arithmetic operations. By starting with a Decimal object for both operands, you can ensure that the arithmetic operations maintain the desired precision and avoid rounding errors"
   ]
  },
  {
   "cell_type": "markdown",
   "id": "b71e358c-01a0-490d-ba88-ed420efc15be",
   "metadata": {},
   "source": [
    "7. Using the Fraction class but not the Decimal class, give an example of a quantity that can be expressed with absolute precision."
   ]
  },
  {
   "cell_type": "code",
   "execution_count": 1,
   "id": "3f9d448e-0b0a-4f38-89bf-152d1c7f5643",
   "metadata": {},
   "outputs": [
    {
     "name": "stdout",
     "output_type": "stream",
     "text": [
      "5/2\n"
     ]
    }
   ],
   "source": [
    "from fractions import Fraction\n",
    "\n",
    "quantity = Fraction(5, 2)\n",
    "print(quantity)  "
   ]
  },
  {
   "cell_type": "markdown",
   "id": "7dba9973-a5ab-4cf7-993d-1be1560619e2",
   "metadata": {},
   "source": [
    "8. Describe a quantity that can be accurately expressed by the Decimal or Fraction classes but not by a floating-point value."
   ]
  },
  {
   "cell_type": "markdown",
   "id": "5b5b171c-c032-4544-bd42-229a71b5569a",
   "metadata": {},
   "source": [
    "A quantity that can be accurately expressed by the Decimal or Fraction classes but not by a floating-point value is a recurring or repeating decimal.Recurring decimals are decimal numbers that have a repeating pattern of digits after the decimal point. Since floating-point numbers have a fixed number of bits to represent the decimal part, they cannot precisely represent recurring decimals without introducing rounding errors or approximation."
   ]
  },
  {
   "cell_type": "markdown",
   "id": "123afafc-89bb-4519-a932-3a4e3d6ae806",
   "metadata": {},
   "source": [
    "Q9. Consider the following two fraction objects: Fraction(1, 2) and Fraction(1, 2). (5, 10). Is the internal state of these two objects the same? Why do you think that is?"
   ]
  },
  {
   "cell_type": "markdown",
   "id": "96b63aaf-57d0-4eb3-88c6-62ad4192ca4e",
   "metadata": {},
   "source": [
    "The internal state of the two Fraction objects Fraction(1, 2) and Fraction(5, 10) is the same. Both fractions represent the same mathematical value of 1/2, and the Fraction class simplifies the fractions during initialization to their simplest form. Internally, both fractions are represented as Fraction(1, 2) after simplification."
   ]
  },
  {
   "cell_type": "markdown",
   "id": "c941f7c7-47ba-4d2d-9f55-905cae8f4cef",
   "metadata": {},
   "source": [
    "Q10. How do the Fraction class and the integer type (int) relate to each other? Containment or inheritance?"
   ]
  },
  {
   "cell_type": "markdown",
   "id": "63fa72f8-963e-4f28-b28c-7898bfdc5d7d",
   "metadata": {},
   "source": [
    "The Fraction class and the integer type (int) in Python have a containment relationship rather than an inheritance relationship. In terms of containment, the Fraction class can contain integer values and work with them in fraction form. This means that you can pass integer values to the Fraction class to create fraction objects. The Fraction class handles the internal representation and operations on fractions, including those involving integer values."
   ]
  }
 ],
 "metadata": {
  "kernelspec": {
   "display_name": "Python 3 (ipykernel)",
   "language": "python",
   "name": "python3"
  },
  "language_info": {
   "codemirror_mode": {
    "name": "ipython",
    "version": 3
   },
   "file_extension": ".py",
   "mimetype": "text/x-python",
   "name": "python",
   "nbconvert_exporter": "python",
   "pygments_lexer": "ipython3",
   "version": "3.10.6"
  }
 },
 "nbformat": 4,
 "nbformat_minor": 5
}
